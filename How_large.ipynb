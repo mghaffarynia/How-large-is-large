{
  "nbformat": 4,
  "nbformat_minor": 0,
  "metadata": {
    "colab": {
      "name": "How-large.ipynb",
      "provenance": []
    },
    "kernelspec": {
      "name": "python3",
      "display_name": "Python 3"
    },
    "language_info": {
      "name": "python"
    }
  },
  "cells": [
    {
      "cell_type": "markdown",
      "metadata": {
        "id": "8toYmNYO-5ig"
      },
      "source": [
        "Mahmood Ghaffarynia\n",
        "\n",
        "mahmood.ghaffarynia@utdallas.edu\n",
        "\n",
        "Computer Science Department"
      ]
    },
    {
      "cell_type": "markdown",
      "metadata": {
        "id": "4RmAJRFW9_rC"
      },
      "source": [
        "The goal of this work is to see how large n should be for the large-sample and the (parametric) bootstrap percentile method confidence intervals for the mean of an exponential population to be accurate. To be specific, let X1, . . . , Xn represent a random sample from an exponential (λ) distribution. This distribution is skewed and its mean is µ = 1/λ. We can construct two confidence intervals for µ — one the large-sample z-interval (interval 1) and the other a (parametric) bootstrap percentile method interval (interval 2). We would like to investigate their accuracy, i.e., how close their estimated coverage probabilities are to the assumed nominal level of confidence, for various combinations of (n, λ). This investigation will focus on 1 − α = 0.95, λ = 0.01, 0.1, 1, 10 and n = 5, 10, 30, 100. Thus, we have a total of 4 ∗ 4 = 16 combinations of (n, λ) to investigate."
      ]
    },
    {
      "cell_type": "code",
      "metadata": {
        "id": "S9MVW2Mu7Uai"
      },
      "source": [
        "%load_ext rpy2.ipython"
      ],
      "execution_count": 1,
      "outputs": []
    },
    {
      "cell_type": "markdown",
      "metadata": {
        "id": "Te25VJ-l8mCh"
      },
      "source": [
        "Importing the boot library and determining the number of simulations and also Type I error."
      ]
    },
    {
      "cell_type": "code",
      "metadata": {
        "id": "3WeXLIjj7frC"
      },
      "source": [
        "%%R\n",
        "library(boot)\n",
        "nsim = 5000\n",
        "alpha = 0.05"
      ],
      "execution_count": 2,
      "outputs": []
    },
    {
      "cell_type": "code",
      "metadata": {
        "id": "dQSCxOzm8lCt"
      },
      "source": [
        "%%R\n",
        "# Generates confidence intervals by both methods\n",
        "conf.int = function(lambda, n, alpha) {\n",
        "  # Generate data:\n",
        "  x = rexp(n, rate = lambda)\n",
        "  # Find large sample z-interval \n",
        "  z.ci = mean(x) + c(-1, 1) * qnorm(1-(alpha/2)) * (mean(x) / sqrt(n))\n",
        "  # Find parametric bootstrap percentile method interval\n",
        "  mean.par = function(x) {\n",
        "    result = mean(x)\n",
        "    return(result)\n",
        "  }\n",
        "  exp.gen = function(x, mle) {\n",
        "    dat = rexp(n, 1/mle)\n",
        "    return(dat)\n",
        "  }\n",
        "  mean.par.boot = boot(data = x, \n",
        "                       statistic = mean.par, \n",
        "                       # R = 999, \n",
        "                       R = 99, \n",
        "                       sim = \"parametric\", \n",
        "                       ran.gen = exp.gen,\n",
        "                       mle = mean(x))\n",
        "  # percentile.boot.ci = sort(mean.par.boot$t)[c(25, 975)]\n",
        "  percentile.boot.ci = sort(mean.par.boot$t)[c(3, 97)]\n",
        "  \n",
        "  return (list(z.ci, percentile.boot.ci))\n",
        "}"
      ],
      "execution_count": 3,
      "outputs": []
    },
    {
      "cell_type": "code",
      "metadata": {
        "id": "FvutlVKF9R1R"
      },
      "source": [
        "%%R\n",
        "lambda = c(0.01, 0.1, 1, 10)\n",
        "n = c(5, 10, 30, 100)\n",
        "# Initialize matrices to store results\n",
        "z.accuracy.mat = matrix(, length(lambda), length(n))\n",
        "boot.accuracy.mat = matrix(, length(lambda), length(n))\n",
        "\n",
        "# Part B: (repetition over all lambda and n)\n",
        "for (val in lambda) {\n",
        "  for (num in n) {\n",
        "    # Part A:\n",
        "    # Generate both confidence intervals for all 5000 replications:\n",
        "    ci.mat = replicate(nsim, array( unlist(conf.int(val, num, alpha)), dim = c(2,1, 2)))\n",
        "    # For Z method, check if true value of mu (1/lambda) is captured by CI,\n",
        "    #    compute accuracy over all 5000 intervals\n",
        "    z.ci.accuracy = mean(((1/val) >= ci.mat[1,1,1,]) * ((1/val) <= ci.mat[2,1,1,]))\n",
        "    # Store the results in matrix for display\n",
        "    z.accuracy.mat[which(val == lambda), which(num == n)] = z.ci.accuracy\n",
        "    # For bootstrap method, check if true value of mu (1/lambda) is captured by CI,\n",
        "    #    compute accuracy over all 5000 intervals\n",
        "    boot.ci.accuracy = mean(((1/val) >= ci.mat[1,1,2,]) * ((1/val) <= ci.mat[2,1,2,]))\n",
        "    # Store the results in matrix for display\n",
        "    boot.accuracy.mat[which(val == lambda), which(num == n)] = boot.ci.accuracy\n",
        "  }\n",
        "}"
      ],
      "execution_count": 4,
      "outputs": []
    },
    {
      "cell_type": "code",
      "metadata": {
        "colab": {
          "base_uri": "https://localhost:8080/"
        },
        "id": "VqoZoveL9d4w",
        "outputId": "b688a4d2-d6f4-4d91-d0f0-60e437aa6d20"
      },
      "source": [
        "%%R\n",
        "# Display results\n",
        "colnames(z.accuracy.mat) <- paste(\"(n:\", n, \")\")\n",
        "colnames(boot.accuracy.mat) <- paste(\"(n:\", n, \")\")\n",
        "rownames(z.accuracy.mat) <- paste(\"(lambda:\", lambda, \")\")\n",
        "rownames(boot.accuracy.mat) <- paste(\"(lambda:\", lambda, \")\")\n",
        "print(\"Large-Sample Z-Intervals\")\n",
        "print(z.accuracy.mat)\n",
        "print(\"Parametric Bootstrap Percentile Method Intervals\")\n",
        "print(boot.accuracy.mat)"
      ],
      "execution_count": 5,
      "outputs": [
        {
          "output_type": "stream",
          "name": "stdout",
          "text": [
            "[1] \"Large-Sample Z-Intervals\"\n",
            "                (n: 5 ) (n: 10 ) (n: 30 ) (n: 100 )\n",
            "(lambda: 0.01 )  0.8684   0.9036   0.9312    0.9444\n",
            "(lambda: 0.1 )   0.8718   0.9090   0.9334    0.9462\n",
            "(lambda: 1 )     0.8664   0.9056   0.9256    0.9420\n",
            "(lambda: 10 )    0.8632   0.9030   0.9322    0.9490\n",
            "[1] \"Parametric Bootstrap Percentile Method Intervals\"\n",
            "                (n: 5 ) (n: 10 ) (n: 30 ) (n: 100 )\n",
            "(lambda: 0.01 )  0.8884   0.9138   0.9248    0.9388\n",
            "(lambda: 0.1 )   0.8908   0.9152   0.9300    0.9424\n",
            "(lambda: 1 )     0.8956   0.9156   0.9224    0.9348\n",
            "(lambda: 10 )    0.8902   0.9158   0.9328    0.9388\n"
          ]
        }
      ]
    },
    {
      "cell_type": "markdown",
      "metadata": {
        "id": "triPTTug_tby"
      },
      "source": [
        "Conclusion:\n",
        "\n",
        "For the Large Sample z-interval method, we need 100 data points before\n",
        "we are close to the confidence level of (1-α). For the Parametric Bootstrap Percentile Method Intervals, we are more likely to be close to our confidence level of (1-α) with only 30 data points. These results appear to be independent of the predetermined values for lambda.\n",
        "\n",
        "The Parametric Bootstrap Percentile Method Intervals seem to be slightly more\n",
        "accurate. It takes considerably longer to run, and so that accuracy increase comes with significant trade-offs. If the extra accuracy is needed, then bootstrapping the data is worthwhile."
      ]
    }
  ]
}